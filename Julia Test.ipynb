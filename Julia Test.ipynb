{
 "metadata": {
  "language": "Julia",
  "name": ""
 },
 "nbformat": 3,
 "nbformat_minor": 0,
 "worksheets": [
  {
   "cells": [
    {
     "cell_type": "code",
     "collapsed": false,
     "input": [
      "reload(\"neuralnet.jl\")"
     ],
     "language": "python",
     "metadata": {},
     "outputs": [
      {
       "output_type": "stream",
       "stream": "stderr",
       "text": [
        "Warning: replacing module NeuralNet\n"
       ]
      }
     ],
     "prompt_number": {}
    },
    {
     "cell_type": "code",
     "collapsed": false,
     "input": [
      "n = NeuralNet.Network([2;2])"
     ],
     "language": "python",
     "metadata": {},
     "outputs": [
      {
       "metadata": {},
       "output_type": "pyout",
       "prompt_number": {},
       "text": [
        "Network([2,2],[\n",
        "2x2 Array{Float64,2}:\n",
        "  1.30469   0.00564777\n",
        " -1.39914  -2.19398   ],[[1.9811914902048504,-1.3914682391597657]])"
       ]
      }
     ],
     "prompt_number": {}
    },
    {
     "cell_type": "markdown",
     "metadata": {},
     "source": [
      "### Verify backward prop\n",
      "Manually verify cost derivatives "
     ]
    },
    {
     "cell_type": "code",
     "collapsed": false,
     "input": [
      "function cost(net::NeuralNet.Network, x, y)\n",
      "  noutput = NeuralNet.feedforward(net,x)\n",
      "  err = noutput - y\n",
      "  0.5 * err' * err\n",
      "end"
     ],
     "language": "python",
     "metadata": {},
     "outputs": [
      {
       "metadata": {},
       "output_type": "pyout",
       "prompt_number": {},
       "text": [
        "cost (generic function with 13 methods)"
       ]
      }
     ],
     "prompt_number": {}
    },
    {
     "cell_type": "code",
     "collapsed": false,
     "input": [
      "test_input = [1;1]\n",
      "test_output = [1;1]"
     ],
     "language": "python",
     "metadata": {},
     "outputs": [
      {
       "metadata": {},
       "output_type": "pyout",
       "prompt_number": {},
       "text": [
        "2-element Array{Int64,1}:\n",
        " 1\n",
        " 1"
       ]
      }
     ],
     "prompt_number": {}
    },
    {
     "cell_type": "markdown",
     "metadata": {},
     "source": [
      "#### Test Bias"
     ]
    },
    {
     "cell_type": "code",
     "collapsed": false,
     "input": [
      "delta = 1e-5\n",
      "nb_upper = deepcopy(n)\n",
      "nb_lower = deepcopy(n)\n",
      "nb_upper.bias[end][2] += delta\n",
      "nb_lower.bias[end][2] -= delta\n",
      "cost_upper = cost(nb_upper, test_input, test_output)\n",
      "cost_lower = cost(nb_lower, test_input, test_output)\n",
      "deltaB = (cost_upper - cost_lower)/(2*delta)"
     ],
     "language": "python",
     "metadata": {},
     "outputs": [
      {
       "metadata": {},
       "output_type": "pyout",
       "prompt_number": {},
       "text": [
        "1-element Array{Float64,1}:\n",
        " -0.00670403"
       ]
      }
     ],
     "prompt_number": {}
    },
    {
     "cell_type": "code",
     "collapsed": false,
     "input": [
      "res = NeuralNet.backpropagate(n,test_input,test_output)"
     ],
     "language": "python",
     "metadata": {},
     "outputs": [
      {
       "metadata": {},
       "output_type": "pyout",
       "prompt_number": {},
       "text": [
        "({[-0.0012400238907016726,-0.006704028694460935]},{\n",
        "2x2 Array{Float64,2}:\n",
        " -0.00119555  -0.0064636 \n",
        " -8.42731e-6  -4.55612e-5})"
       ]
      }
     ],
     "prompt_number": {}
    },
    {
     "cell_type": "markdown",
     "metadata": {},
     "source": [
      "Test Weights"
     ]
    },
    {
     "cell_type": "code",
     "collapsed": false,
     "input": [
      "delta = 1e-5\n",
      "nw_upper = deepcopy(n)\n",
      "nw_lower = deepcopy(n)\n",
      "nw_upper.weights[end][1,1] += delta\n",
      "nw_lower.weights[end][1,1] -= delta\n",
      "costw_upper = cost(nw_upper, test_input, test_output)\n",
      "costw_lower = cost(nw_lower, test_input, test_output)\n",
      "deltaW = (costw_upper - costw_lower)/(2*delta)"
     ],
     "language": "python",
     "metadata": {},
     "outputs": [
      {
       "metadata": {},
       "output_type": "pyout",
       "prompt_number": {},
       "text": [
        "1-element Array{Float64,1}:\n",
        " -0.00124002"
       ]
      }
     ],
     "prompt_number": {}
    },
    {
     "cell_type": "code",
     "collapsed": false,
     "input": [
      "function sigmoid(z)\n",
      "    1./(1 + exp(-z))\n",
      "end\n",
      "\n",
      "function dsigmoid(z)\n",
      "    sigmoid(z) .* (1-sigmoid(z))\n",
      "end"
     ],
     "language": "python",
     "metadata": {},
     "outputs": [
      {
       "metadata": {},
       "output_type": "pyout",
       "prompt_number": {},
       "text": [
        "dsigmoid (generic function with 1 method)"
       ]
      }
     ],
     "prompt_number": {}
    },
    {
     "cell_type": "code",
     "collapsed": false,
     "input": [
      "res[1][1] * NeuralNet.feedforward(n, test_input)'"
     ],
     "language": "python",
     "metadata": {},
     "outputs": [
      {
       "metadata": {},
       "output_type": "pyout",
       "prompt_number": {},
       "text": [
        "2x2 Array{Float64,2}:\n",
        " -0.00119555  -8.42731e-6\n",
        " -0.0064636   -4.55612e-5"
       ]
      }
     ],
     "prompt_number": {}
    },
    {
     "cell_type": "code",
     "collapsed": false,
     "input": [
      "NeuralNet.feedforward(n, test_input) * res[1][1]'"
     ],
     "language": "python",
     "metadata": {},
     "outputs": [
      {
       "metadata": {},
       "output_type": "pyout",
       "prompt_number": {},
       "text": [
        "2x2 Array{Float64,2}:\n",
        " -0.00119555  -0.0064636 \n",
        " -8.42731e-6  -4.55612e-5"
       ]
      }
     ],
     "prompt_number": {}
    },
    {
     "cell_type": "code",
     "collapsed": false,
     "input": [
      "size(NeuralNet.feedforward(n, test_input))"
     ],
     "language": "python",
     "metadata": {},
     "outputs": [
      {
       "metadata": {},
       "output_type": "pyout",
       "prompt_number": {},
       "text": [
        "(2,)"
       ]
      }
     ],
     "prompt_number": {}
    },
    {
     "cell_type": "code",
     "collapsed": false,
     "input": [
      "res[1][1][1] "
     ],
     "language": "python",
     "metadata": {},
     "outputs": [
      {
       "metadata": {},
       "output_type": "pyout",
       "prompt_number": {},
       "text": [
        "-0.0012400238907016726"
       ]
      }
     ],
     "prompt_number": {}
    },
    {
     "cell_type": "code",
     "collapsed": false,
     "input": [
      "NeuralNet.feedforward(n, test_input)[1]"
     ],
     "language": "python",
     "metadata": {},
     "outputs": [
      {
       "metadata": {},
       "output_type": "pyout",
       "prompt_number": {},
       "text": [
        "0.9641370811849658"
       ]
      }
     ],
     "prompt_number": {}
    }
   ],
   "metadata": {}
  }
 ]
}