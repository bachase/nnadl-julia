{
 "metadata": {
  "language": "Julia",
  "name": ""
 },
 "nbformat": 3,
 "nbformat_minor": 0,
 "worksheets": [
  {
   "cells": [
    {
     "cell_type": "code",
     "collapsed": false,
     "input": [
      "reload(\"nnadl-julia/neuralnet.jl\")"
     ],
     "language": "python",
     "metadata": {},
     "outputs": [
      {
       "output_type": "stream",
       "stream": "stderr",
       "text": [
        "Warning: replacing module NeuralNet\n"
       ]
      }
     ],
     "prompt_number": 204
    },
    {
     "cell_type": "code",
     "collapsed": false,
     "input": [
      "n = NeuralNet.Network([2;3;2])"
     ],
     "language": "python",
     "metadata": {},
     "outputs": [
      {
       "metadata": {},
       "output_type": "pyout",
       "prompt_number": 205,
       "text": [
        "Network([2,3,2],[\n",
        "3x2 Array{Float64,2}:\n",
        "  0.600435  -1.32283 \n",
        " -1.22158   -0.365137\n",
        "  0.285094   1.00591 ,\n",
        "\n",
        "2x3 Array{Float64,2}:\n",
        " -0.448648  -1.36167   0.454855\n",
        "  0.405436  -1.98916  -0.229641],[[1.1813357212803672,0.8481089750564397,-0.7220688064524527],[2.3298437456772727,-0.5094772590732095]])"
       ]
      }
     ],
     "prompt_number": 205
    },
    {
     "cell_type": "code",
     "collapsed": false,
     "input": [
      "length(n.layers)"
     ],
     "language": "python",
     "metadata": {},
     "outputs": [
      {
       "metadata": {},
       "output_type": "pyout",
       "prompt_number": 206,
       "text": [
        "3"
       ]
      }
     ],
     "prompt_number": 206
    },
    {
     "cell_type": "markdown",
     "metadata": {},
     "source": [
      "### Verify backward prop\n",
      "Manually verify cost derivatives "
     ]
    },
    {
     "cell_type": "code",
     "collapsed": false,
     "input": [
      "function cost(net::NeuralNet.Network, x, y)\n",
      "  noutput = NeuralNet.feedforward(net,x)\n",
      "  err = (noutput - y).^2\n",
      "  1./size(x,2) * 0.5 * sum(err)\n",
      "end"
     ],
     "language": "python",
     "metadata": {},
     "outputs": [
      {
       "metadata": {},
       "output_type": "pyout",
       "prompt_number": 207,
       "text": [
        "cost (generic function with 9 methods)"
       ]
      }
     ],
     "prompt_number": 207
    },
    {
     "cell_type": "code",
     "collapsed": false,
     "input": [
      "test_input = [1 1; 2 2]\n",
      "test_output = [1 1;2 2]"
     ],
     "language": "python",
     "metadata": {},
     "outputs": [
      {
       "metadata": {},
       "output_type": "pyout",
       "prompt_number": 208,
       "text": [
        "2x2 Array{Int64,2}:\n",
        " 1  1\n",
        " 2  2"
       ]
      }
     ],
     "prompt_number": 208
    },
    {
     "cell_type": "markdown",
     "metadata": {},
     "source": [
      "#### Test Bias"
     ]
    },
    {
     "cell_type": "code",
     "collapsed": false,
     "input": [
      "delta = 1e-5\n",
      "function test_bias(network, layer, neuron, delta = 1e-5)\n",
      "    nb_upper = deepcopy(network)\n",
      "    nb_lower = deepcopy(network)\n",
      "    nb_upper.bias[layer][neuron] += delta\n",
      "    nb_lower.bias[layer][neuron] -= delta\n",
      "    cost_upper = cost(nb_upper, test_input, test_output)\n",
      "    cost_lower = cost(nb_lower, test_input, test_output)\n",
      "    (cost_upper - cost_lower)/(2*delta)\n",
      "end"
     ],
     "language": "python",
     "metadata": {},
     "outputs": [
      {
       "metadata": {},
       "output_type": "pyout",
       "prompt_number": 209,
       "text": [
        "test_bias (generic function with 2 methods)"
       ]
      }
     ],
     "prompt_number": 209
    },
    {
     "cell_type": "code",
     "collapsed": false,
     "input": [
      "function test_weights(network, layer, neuronA,neuronB, delta = 1e-5)\n",
      "    nw_upper = deepcopy(network)\n",
      "    nw_lower = deepcopy(network)\n",
      "    nw_upper.weights[layer][neuronA,neuronB] += delta\n",
      "    nw_lower.weights[layer][neuronA,neuronB] -= delta\n",
      "    costw_upper = cost(nw_upper, test_input, test_output)\n",
      "    costw_lower = cost(nw_lower, test_input, test_output)\n",
      "    (costw_upper - costw_lower)/(2*delta)\n",
      "end"
     ],
     "language": "python",
     "metadata": {},
     "outputs": [
      {
       "metadata": {},
       "output_type": "pyout",
       "prompt_number": 210,
       "text": [
        "test_weights (generic function with 2 methods)"
       ]
      }
     ],
     "prompt_number": 210
    },
    {
     "cell_type": "code",
     "collapsed": false,
     "input": [
      "testDerive = NeuralNet.backpropagate(n,test_input,test_output)\n",
      "for (layer, numNeurons) in enumerate(n.layers[2:end])\n",
      "    @printf(\"Layer %d\\n\",layer)\n",
      "    for neuron in 1:numNeurons\n",
      "        @printf(\"Bias Neuron %d\\n\", neuron)\n",
      "        a = test_bias(n, layer, neuron)\n",
      "        b = testDerive[1][layer][neuron]\n",
      "        @Test.test_approx_eq_eps a b 1e-6\n",
      "    end\n",
      "    @printf(\"Weights\")\n",
      "    for neuronA in 1:n.layers[layer], neuronB in 1:n.layers[layer+1]\n",
      "        a = test_weights(n, layer, neuronB, neuronA)\n",
      "        b = testDerive[2][layer][neuronB,neuronA]\n",
      "        @Test.test_approx_eq_eps a b 1e-6\n",
      "    end\n",
      "end"
     ],
     "language": "python",
     "metadata": {},
     "outputs": [
      {
       "output_type": "stream",
       "stream": "stdout",
       "text": [
        "(2"
       ]
      },
      {
       "output_type": "stream",
       "stream": "stdout",
       "text": [
        ",2)\n",
        "Layer 1\n",
        "Bias Neuron 1\n",
        "Bias Neuron "
       ]
      },
      {
       "output_type": "stream",
       "stream": "stdout",
       "text": [
        "2\n",
        "Bias Neuron 3\n",
        "WeightsLayer 2\n",
        "Bias Neuron 1\n",
        "Bias Neuron 2\n",
        "Weights"
       ]
      }
     ],
     "prompt_number": 211
    },
    {
     "cell_type": "code",
     "collapsed": false,
     "input": [
      "test_weights(n,1,1,1)"
     ],
     "language": "python",
     "metadata": {},
     "outputs": [
      {
       "metadata": {},
       "output_type": "pyout",
       "prompt_number": 212,
       "text": [
        "-0.02721660710136575"
       ]
      }
     ],
     "prompt_number": 212
    },
    {
     "cell_type": "code",
     "collapsed": false,
     "input": [
      "testDerive[2][1]"
     ],
     "language": "python",
     "metadata": {},
     "outputs": [
      {
       "metadata": {},
       "output_type": "pyout",
       "prompt_number": 213,
       "text": [
        "3x2 Array{Float64,2}:\n",
        " -0.0272166  -0.0544332\n",
        "  0.125345    0.250689 \n",
        "  0.0102608   0.0205217"
       ]
      }
     ],
     "prompt_number": 213
    },
    {
     "cell_type": "code",
     "collapsed": false,
     "input": [],
     "language": "python",
     "metadata": {},
     "outputs": [],
     "prompt_number": 214
    }
   ],
   "metadata": {}
  }
 ]
}