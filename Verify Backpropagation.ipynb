{
 "metadata": {
  "language": "Julia",
  "name": ""
 },
 "nbformat": 3,
 "nbformat_minor": 0,
 "worksheets": [
  {
   "cells": [
    {
     "cell_type": "code",
     "collapsed": false,
     "input": [
      "reload(\"nnadl-julia/neuralnet.jl\")"
     ],
     "language": "python",
     "metadata": {},
     "outputs": [
      {
       "output_type": "stream",
       "stream": "stderr",
       "text": [
        "Warning: replacing module NeuralNet\n"
       ]
      }
     ],
     "prompt_number": 163
    },
    {
     "cell_type": "code",
     "collapsed": false,
     "input": [
      "n = NeuralNet.Network([2;3;2])"
     ],
     "language": "python",
     "metadata": {},
     "outputs": [
      {
       "metadata": {},
       "output_type": "pyout",
       "prompt_number": 164,
       "text": [
        "Network([2,3,2],[\n",
        "3x2 Array{Float64,2}:\n",
        " -0.337942   0.693919 \n",
        " -0.881773   0.0713552\n",
        "  1.10925   -0.801473 ,\n",
        "\n",
        "2x3 Array{Float64,2}:\n",
        "  0.858968  -0.512626  -0.106922\n",
        " -0.588082   2.32858    1.11758 ],[[1.1080067711859543,0.7650263908394791,0.646374985453715],[-1.736468842385107,-0.7534253416303976]])"
       ]
      }
     ],
     "prompt_number": 164
    },
    {
     "cell_type": "code",
     "collapsed": false,
     "input": [
      "length(n.bias[1])"
     ],
     "language": "python",
     "metadata": {},
     "outputs": [
      {
       "metadata": {},
       "output_type": "pyout",
       "prompt_number": 165,
       "text": [
        "3"
       ]
      }
     ],
     "prompt_number": 165
    },
    {
     "cell_type": "markdown",
     "metadata": {},
     "source": [
      "### Verify backward prop\n",
      "Manually verify cost derivatives "
     ]
    },
    {
     "cell_type": "code",
     "collapsed": false,
     "input": [
      "function cost(net::NeuralNet.Network, x, y)\n",
      "  noutput = NeuralNet.feedforward(net,x)\n",
      "  err = noutput - y\n",
      "  0.5 * err' * err\n",
      "end"
     ],
     "language": "python",
     "metadata": {},
     "outputs": [
      {
       "metadata": {},
       "output_type": "pyout",
       "prompt_number": 166,
       "text": [
        "cost (generic function with 13 methods)"
       ]
      }
     ],
     "prompt_number": 166
    },
    {
     "cell_type": "code",
     "collapsed": false,
     "input": [
      "test_input = [1;1]\n",
      "test_output = [1;1]"
     ],
     "language": "python",
     "metadata": {},
     "outputs": [
      {
       "metadata": {},
       "output_type": "pyout",
       "prompt_number": 167,
       "text": [
        "2-element Array{Int64,1}:\n",
        " 1\n",
        " 1"
       ]
      }
     ],
     "prompt_number": 167
    },
    {
     "cell_type": "markdown",
     "metadata": {},
     "source": [
      "#### Test Bias"
     ]
    },
    {
     "cell_type": "code",
     "collapsed": false,
     "input": [
      "delta = 1e-5\n",
      "function test_bias(network, layer, neuron, delta = 1e-5)\n",
      "    nb_upper = deepcopy(network)\n",
      "    nb_lower = deepcopy(network)\n",
      "    nb_upper.bias[layer][neuron] += delta\n",
      "    nb_lower.bias[layer][neuron] -= delta\n",
      "    cost_upper = cost(nb_upper, test_input, test_output)\n",
      "    cost_lower = cost(nb_lower, test_input, test_output)\n",
      "    (cost_upper - cost_lower)/(2*delta)\n",
      "end"
     ],
     "language": "python",
     "metadata": {},
     "outputs": [
      {
       "metadata": {},
       "output_type": "pyout",
       "prompt_number": 168,
       "text": [
        "test_bias (generic function with 2 methods)"
       ]
      }
     ],
     "prompt_number": 168
    },
    {
     "cell_type": "code",
     "collapsed": false,
     "input": [
      "function test_weights(network, layer, neuronA,neuronB, delta = 1e-5)\n",
      "    nw_upper = deepcopy(network)\n",
      "    nw_lower = deepcopy(network)\n",
      "    nw_upper.weights[layer][neuronA,neuronB] += delta\n",
      "    nw_lower.weights[layer][neuronA,neuronB] -= delta\n",
      "    costw_upper = cost(nw_upper, test_input, test_output)\n",
      "    costw_lower = cost(nw_lower, test_input, test_output)\n",
      "    (costw_upper - costw_lower)/(2*delta)\n",
      "end"
     ],
     "language": "python",
     "metadata": {},
     "outputs": [
      {
       "metadata": {},
       "output_type": "pyout",
       "prompt_number": 169,
       "text": [
        "test_weights (generic function with 2 methods)"
       ]
      }
     ],
     "prompt_number": 169
    },
    {
     "cell_type": "code",
     "collapsed": false,
     "input": [
      "testDerive = NeuralNet.backpropagate(n,test_input,test_output)\n",
      "for (layer, numNeurons) in enumerate(n.layers[2:end])\n",
      "    @printf(\"Layer %d\\n\",layer)\n",
      "    for neuron in 1:numNeurons\n",
      "        a = test_bias(n, layer, neuron)\n",
      "        b = testDerive[1][layer][neuron]\n",
      "        @Test.test_approx_eq_eps a b 1e-6\n",
      "    end\n",
      "    for neuronA in 1:n.layers[layer], neuronB in 1:n.layers[layer+1]\n",
      "        a = test_weights(n, layer, neuronB, neuronA)\n",
      "        b = testDerive[2][layer][neuronB,neuronA]\n",
      "        @Test.test_approx_eq_eps a b 1e-6\n",
      "    end\n",
      "end"
     ],
     "language": "python",
     "metadata": {},
     "outputs": [
      {
       "output_type": "stream",
       "stream": "stdout",
       "text": [
        "Layer 1"
       ]
      },
      {
       "output_type": "stream",
       "stream": "stdout",
       "text": [
        "Layer 2"
       ]
      }
     ],
     "prompt_number": 170
    }
   ],
   "metadata": {}
  }
 ]
}