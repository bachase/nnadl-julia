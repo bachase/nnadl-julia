{
 "metadata": {
  "language": "Julia",
  "name": ""
 },
 "nbformat": 3,
 "nbformat_minor": 0,
 "worksheets": [
  {
   "cells": [
    {
     "cell_type": "code",
     "collapsed": false,
     "input": [
      "reload(\"nnadl-julia/neuralnet.jl\")"
     ],
     "language": "python",
     "metadata": {},
     "outputs": [
      {
       "output_type": "stream",
       "stream": "stderr",
       "text": [
        "Warning: replacing module NeuralNet\n"
       ]
      }
     ],
     "prompt_number": 23
    },
    {
     "cell_type": "code",
     "collapsed": false,
     "input": [
      "n = NeuralNet.Network([784,30,10]);\n",
      "input = randn(784,1000);\n",
      "output = randn(10,1000);"
     ],
     "language": "python",
     "metadata": {},
     "outputs": [],
     "prompt_number": 24
    },
    {
     "cell_type": "code",
     "collapsed": false,
     "input": [
      "NeuralNet.train(n,input, output, 10, 25);"
     ],
     "language": "python",
     "metadata": {},
     "outputs": [],
     "prompt_number": 24
    },
    {
     "cell_type": "code",
     "collapsed": false,
     "input": [
      "Profile.clear()\n",
      "@profile (for r in 1:10; NeuralNet.train(n,input, output, 10, 25); end)"
     ],
     "language": "python",
     "metadata": {},
     "outputs": [],
     "prompt_number": 25
    },
    {
     "cell_type": "code",
     "collapsed": false,
     "input": [
      "s = open(\"prof.txt\",\"w\")\n",
      "Profile.print(s,cols = 500, C = true)\n",
      "close(s)"
     ],
     "language": "python",
     "metadata": {},
     "outputs": [],
     "prompt_number": 28
    },
    {
     "cell_type": "code",
     "collapsed": false,
     "input": [
      "sizeof(input)/(prod(size(input))*8)"
     ],
     "language": "python",
     "metadata": {},
     "outputs": [
      {
       "metadata": {},
       "output_type": "pyout",
       "prompt_number": 35,
       "text": [
        "1.0"
       ]
      }
     ],
     "prompt_number": 35
    },
    {
     "cell_type": "code",
     "collapsed": false,
     "input": [
      "sum(n.layers * size(input,2) * 8) - sizeof(input)"
     ],
     "language": "python",
     "metadata": {},
     "outputs": [
      {
       "metadata": {},
       "output_type": "pyout",
       "prompt_number": 37,
       "text": [
        "16000000"
       ]
      }
     ],
     "prompt_number": 37
    },
    {
     "cell_type": "code",
     "collapsed": false,
     "input": [
      "function tester(x)\n",
      "    res = zeros(size(x))\n",
      "    for idx=1:length(x)\n",
      "        res[idx] = 1./(1.+exp(-x[idx]))\n",
      "    end\n",
      "    res\n",
      "end"
     ],
     "language": "python",
     "metadata": {},
     "outputs": [
      {
       "metadata": {},
       "output_type": "pyout",
       "prompt_number": 2,
       "text": [
        "tester (generic function with 1 method)"
       ]
      }
     ],
     "prompt_number": 2
    },
    {
     "cell_type": "code",
     "collapsed": false,
     "input": [
      "tester(input)"
     ],
     "language": "python",
     "metadata": {},
     "outputs": [],
     "prompt_number": "*"
    },
    {
     "cell_type": "code",
     "collapsed": false,
     "input": [
      "function tmp(n, x)\n",
      "    a = n.weights[1] * x + n.bias[1]\n",
      "    a\n",
      "end"
     ],
     "language": "python",
     "metadata": {},
     "outputs": [
      {
       "metadata": {},
       "output_type": "pyout",
       "prompt_number": 4,
       "text": [
        "tmp (generic function with 1 method)"
       ]
      }
     ],
     "prompt_number": 4
    },
    {
     "cell_type": "code",
     "collapsed": false,
     "input": [
      "code_typed(tmp,((typeof(n),typeof(input))))"
     ],
     "language": "python",
     "metadata": {},
     "outputs": [
      {
       "metadata": {},
       "output_type": "pyout",
       "prompt_number": 5,
       "text": [
        "1-element Array{Any,1}:\n",
        " :($(Expr(:lambda, {:n,:x}, {{:a},{{:n,Network,0},{:x,Array{Float64,2},0},{:a,Array{Float64,2},18}},{}}, quote  # In[4], line 2:\n",
        "        a = +($(GetfieldNode(Base.LinAlg,:gemm_wrapper,Any))('N','N',arrayref(top(getfield)(n::Network,:weights)::Array{Array{Float64,2},1},1)::Array{Float64,2},x::Array{Float64,2})::Array{Float64,2},arrayref(top(getfield)(n::Network,:bias)::Array{Array{Float64,1},1},1)::Array{Float64,1})::Array{Float64,2} # line 3:\n",
        "        return a::Array{Float64,2}\n",
        "    end)))"
       ]
      }
     ],
     "prompt_number": 5
    },
    {
     "cell_type": "code",
     "collapsed": false,
     "input": [
      "size(n.weights[1])"
     ],
     "language": "python",
     "metadata": {},
     "outputs": [
      {
       "metadata": {},
       "output_type": "pyout",
       "prompt_number": 4,
       "text": [
        "(30,784)"
       ]
      }
     ],
     "prompt_number": 4
    },
    {
     "cell_type": "code",
     "collapsed": false,
     "input": [
      "f = ones(30,50000);\n",
      "g = ones(784,50000);"
     ],
     "language": "python",
     "metadata": {},
     "outputs": [],
     "prompt_number": 4
    },
    {
     "cell_type": "code",
     "collapsed": false,
     "input": [
      "@time f * g'"
     ],
     "language": "python",
     "metadata": {},
     "outputs": [
      {
       "output_type": "stream",
       "stream": "stdout",
       "text": [
        "elapsed time: 6"
       ]
      },
      {
       "output_type": "stream",
       "stream": "stdout",
       "text": [
        ".107897211 seconds (188256 bytes allocated)\n"
       ]
      },
      {
       "metadata": {},
       "output_type": "pyout",
       "prompt_number": 6,
       "text": [
        "30x784 Array{Float64,2}:\n",
        " 50000.0  50000.0  50000.0  50000.0  \u2026  50000.0  50000.0  50000.0  50000.0\n",
        " 50000.0  50000.0  50000.0  50000.0     50000.0  50000.0  50000.0  50000.0\n",
        " 50000.0  50000.0  50000.0  50000.0     50000.0  50000.0  50000.0  50000.0\n",
        " 50000.0  50000.0  50000.0  50000.0     50000.0  50000.0  50000.0  50000.0\n",
        " 50000.0  50000.0  50000.0  50000.0     50000.0  50000.0  50000.0  50000.0\n",
        " 50000.0  50000.0  50000.0  50000.0  \u2026  50000.0  50000.0  50000.0  50000.0\n",
        " 50000.0  50000.0  50000.0  50000.0     50000.0  50000.0  50000.0  50000.0\n",
        " 50000.0  50000.0  50000.0  50000.0     50000.0  50000.0  50000.0  50000.0\n",
        " 50000.0  50000.0  50000.0  50000.0     50000.0  50000.0  50000.0  50000.0\n",
        " 50000.0  50000.0  50000.0  50000.0     50000.0  50000.0  50000.0  50000.0\n",
        " 50000.0  50000.0  50000.0  50000.0  \u2026  50000.0  50000.0  50000.0  50000.0\n",
        " 50000.0  50000.0  50000.0  50000.0     50000.0  50000.0  50000.0  50000.0\n",
        " 50000.0  50000.0  50000.0  50000.0     50000.0  50000.0  50000.0  50000.0\n",
        "     \u22ee                               \u22f1      \u22ee                             \n",
        " 50000.0  50000.0  50000.0  50000.0     50000.0  50000.0  50000.0  50000.0\n",
        " 50000.0  50000.0  50000.0  50000.0     50000.0  50000.0  50000.0  50000.0\n",
        " 50000.0  50000.0  50000.0  50000.0  \u2026  50000.0  50000.0  50000.0  50000.0\n",
        " 50000.0  50000.0  50000.0  50000.0     50000.0  50000.0  50000.0  50000.0\n",
        " 50000.0  50000.0  50000.0  50000.0     50000.0  50000.0  50000.0  50000.0\n",
        " 50000.0  50000.0  50000.0  50000.0     50000.0  50000.0  50000.0  50000.0\n",
        " 50000.0  50000.0  50000.0  50000.0     50000.0  50000.0  50000.0  50000.0\n",
        " 50000.0  50000.0  50000.0  50000.0  \u2026  50000.0  50000.0  50000.0  50000.0\n",
        " 50000.0  50000.0  50000.0  50000.0     50000.0  50000.0  50000.0  50000.0\n",
        " 50000.0  50000.0  50000.0  50000.0     50000.0  50000.0  50000.0  50000.0\n",
        " 50000.0  50000.0  50000.0  50000.0     50000.0  50000.0  50000.0  50000.0\n",
        " 50000.0  50000.0  50000.0  50000.0     50000.0  50000.0  50000.0  50000.0"
       ]
      }
     ],
     "prompt_number": 6
    },
    {
     "cell_type": "code",
     "collapsed": false,
     "input": [],
     "language": "python",
     "metadata": {},
     "outputs": []
    }
   ],
   "metadata": {}
  }
 ]
}