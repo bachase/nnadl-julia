{
 "metadata": {
  "language": "Julia",
  "name": ""
 },
 "nbformat": 3,
 "nbformat_minor": 0,
 "worksheets": [
  {
   "cells": [
    {
     "cell_type": "code",
     "collapsed": false,
     "input": [
      "reload(\"nnadl-julia/neuralnet.jl\")"
     ],
     "language": "python",
     "metadata": {},
     "outputs": [
      {
       "output_type": "stream",
       "stream": "stderr",
       "text": [
        "Warning: replacing module NeuralNet\n"
       ]
      }
     ],
     "prompt_number": 19
    },
    {
     "cell_type": "code",
     "collapsed": false,
     "input": [
      "using HDF5;\n",
      "using PyPlot;"
     ],
     "language": "python",
     "metadata": {},
     "outputs": [],
     "prompt_number": 19
    },
    {
     "cell_type": "code",
     "collapsed": false,
     "input": [
      "fid = h5open(\"/home/bachase/nnadl-julia/data/mnist.hdf5\",\"r\")"
     ],
     "language": "python",
     "metadata": {},
     "outputs": [
      {
       "metadata": {},
       "output_type": "pyout",
       "prompt_number": 20,
       "text": [
        "HDF5 data file: /home/bachase/nnadl-julia/data/mnist.hdf5"
       ]
      }
     ],
     "prompt_number": 20
    },
    {
     "cell_type": "code",
     "collapsed": false,
     "input": [
      "dump(fid)"
     ],
     "language": "python",
     "metadata": {},
     "outputs": [
      {
       "output_type": "stream",
       "stream": "stdout",
       "text": [
        "HDF5File len "
       ]
      },
      {
       "output_type": "stream",
       "stream": "stdout",
       "text": [
        "3\n",
        "  test_data: HDF5Group len 2\n",
        "    images: HDF5Dataset (784,10000) : [0.0f0,0.0f0,0.0f0,0.0f0,0.0f0 \n",
        "    labels: HDF5Dataset (10000,) : [7,2,1,0,4 \n",
        "  training_data: HDF5Group len 2\n",
        "    images: HDF5Dataset (784,50000) : [0.0f0,0.0f0,0.0f0,0.0f0,0.0f0 \n",
        "    labels: HDF5Dataset (50000,) : [5,0,4,1,9 \n",
        "  validation_data: HDF5Group len 2\n",
        "    images: HDF5Dataset (784,10000) : [0.0f0,0.0f0,0.0f0,0.0f0,0.0f0 \n",
        "    labels: HDF5Dataset (10000,) : [3,8,6,9,6 \n"
       ]
      }
     ],
     "prompt_number": 21
    },
    {
     "cell_type": "code",
     "collapsed": false,
     "input": [
      "function show_image(g)\n",
      "    imshow(reshape(g,(28,28))')\n",
      "    show()\n",
      "end\n",
      "\n",
      "function make_onehot(ids)\n",
      "    res = zeros(10, length(ids))\n",
      "    for (idx, id) in enumerate(ids)\n",
      "        res[id+1,idx] = 1\n",
      "    end\n",
      "    res\n",
      "end\n",
      "\n",
      "images = read(fid[\"training_data/images\"]);\n",
      "labels = make_onehot(read(fid[\"training_data/labels\"]));\n",
      "test_images = read(fid[\"test_data/images\"]);\n",
      "test_labels = make_onehot(read(fid[\"test_data/labels\"]));"
     ],
     "language": "python",
     "metadata": {},
     "outputs": [],
     "prompt_number": 21
    },
    {
     "cell_type": "code",
     "collapsed": false,
     "input": [
      "function cost(net::NeuralNet.Network, x, y)\n",
      "  noutput = NeuralNet.feedforward(net,x)\n",
      "  err = (noutput - y).^2\n",
      "  1./size(x,2) * 0.5 * sum(err)\n",
      "end"
     ],
     "language": "python",
     "metadata": {},
     "outputs": [
      {
       "metadata": {},
       "output_type": "pyout",
       "prompt_number": 22,
       "text": [
        "cost (generic function with 3 methods)"
       ]
      }
     ],
     "prompt_number": 22
    },
    {
     "cell_type": "code",
     "collapsed": false,
     "input": [
      "epochs = 100\n",
      "train_err = zeros(epochs)\n",
      "test_err = zeros(epochs)\n",
      "function callback(epoch, net)\n",
      "    train_err[epoch] = cost(net, images[:,1:1000], labels[:,1:1000])\n",
      "    test_err[epoch] = cost(net, test_images, test_labels) \n",
      "end\n",
      "n = NeuralNet.Network([784,30,10]);\n",
      "NeuralNet.train(n, images[:,1:1000], labels[:,1:1000], 10, epochs, 0.95, callback)\n",
      "plot(1:epochs, train_err,label=\"Train\")\n",
      "plot(1:epochs, test_err, label=\"Test\")\n",
      "legend()"
     ],
     "language": "python",
     "metadata": {},
     "outputs": [
      {
       "output_type": "stream",
       "stream": "stdout",
       "text": [
        "Epoch 1"
       ]
      },
      {
       "output_type": "stream",
       "stream": "stdout",
       "text": [
        " Epoch "
       ]
      },
      {
       "output_type": "stream",
       "stream": "stdout",
       "text": [
        "2 Epoch "
       ]
      },
      {
       "output_type": "stream",
       "stream": "stdout",
       "text": [
        "3 Epoch "
       ]
      },
      {
       "output_type": "stream",
       "stream": "stdout",
       "text": [
        "4 Epoch "
       ]
      },
      {
       "output_type": "stream",
       "stream": "stdout",
       "text": [
        "5 Epoch "
       ]
      },
      {
       "output_type": "stream",
       "stream": "stdout",
       "text": [
        "6 Epoch "
       ]
      },
      {
       "output_type": "stream",
       "stream": "stdout",
       "text": [
        "7 Epoch "
       ]
      },
      {
       "output_type": "stream",
       "stream": "stdout",
       "text": [
        "8 Epoch "
       ]
      },
      {
       "output_type": "stream",
       "stream": "stdout",
       "text": [
        "9 Epoch "
       ]
      },
      {
       "output_type": "stream",
       "stream": "stdout",
       "text": [
        "10 Epoch "
       ]
      },
      {
       "output_type": "stream",
       "stream": "stdout",
       "text": [
        "11 Epoch "
       ]
      },
      {
       "output_type": "stream",
       "stream": "stdout",
       "text": [
        "12 Epoch "
       ]
      },
      {
       "output_type": "stream",
       "stream": "stdout",
       "text": [
        "13 Epoch "
       ]
      },
      {
       "output_type": "stream",
       "stream": "stdout",
       "text": [
        "14 Epoch "
       ]
      },
      {
       "output_type": "stream",
       "stream": "stdout",
       "text": [
        "15 Epoch "
       ]
      },
      {
       "output_type": "stream",
       "stream": "stdout",
       "text": [
        "16 Epoch "
       ]
      },
      {
       "output_type": "stream",
       "stream": "stdout",
       "text": [
        "17 Epoch "
       ]
      },
      {
       "output_type": "stream",
       "stream": "stdout",
       "text": [
        "18 Epoch "
       ]
      },
      {
       "output_type": "stream",
       "stream": "stdout",
       "text": [
        "19 Epoch "
       ]
      },
      {
       "output_type": "stream",
       "stream": "stdout",
       "text": [
        "20 Epoch "
       ]
      },
      {
       "output_type": "stream",
       "stream": "stdout",
       "text": [
        "21 Epoch "
       ]
      },
      {
       "output_type": "stream",
       "stream": "stdout",
       "text": [
        "22 Epoch "
       ]
      },
      {
       "output_type": "stream",
       "stream": "stdout",
       "text": [
        "23 Epoch "
       ]
      },
      {
       "output_type": "stream",
       "stream": "stdout",
       "text": [
        "24 Epoch "
       ]
      },
      {
       "output_type": "stream",
       "stream": "stdout",
       "text": [
        "25 Epoch "
       ]
      },
      {
       "output_type": "stream",
       "stream": "stdout",
       "text": [
        "26 Epoch "
       ]
      },
      {
       "output_type": "stream",
       "stream": "stdout",
       "text": [
        "27 Epoch "
       ]
      },
      {
       "output_type": "stream",
       "stream": "stdout",
       "text": [
        "28 Epoch "
       ]
      },
      {
       "output_type": "stream",
       "stream": "stdout",
       "text": [
        "29 Epoch "
       ]
      },
      {
       "output_type": "stream",
       "stream": "stdout",
       "text": [
        "30 Epoch "
       ]
      },
      {
       "output_type": "stream",
       "stream": "stdout",
       "text": [
        "31 Epoch "
       ]
      },
      {
       "output_type": "stream",
       "stream": "stdout",
       "text": [
        "32 Epoch "
       ]
      },
      {
       "output_type": "stream",
       "stream": "stdout",
       "text": [
        "33 Epoch "
       ]
      },
      {
       "output_type": "stream",
       "stream": "stdout",
       "text": [
        "34 Epoch "
       ]
      },
      {
       "output_type": "stream",
       "stream": "stdout",
       "text": [
        "35 Epoch "
       ]
      },
      {
       "output_type": "stream",
       "stream": "stdout",
       "text": [
        "36 Epoch "
       ]
      },
      {
       "output_type": "stream",
       "stream": "stdout",
       "text": [
        "37 Epoch "
       ]
      },
      {
       "output_type": "stream",
       "stream": "stdout",
       "text": [
        "38 Epoch "
       ]
      },
      {
       "output_type": "stream",
       "stream": "stdout",
       "text": [
        "39 Epoch "
       ]
      },
      {
       "output_type": "stream",
       "stream": "stdout",
       "text": [
        "40 Epoch "
       ]
      },
      {
       "output_type": "stream",
       "stream": "stdout",
       "text": [
        "41 Epoch "
       ]
      },
      {
       "output_type": "stream",
       "stream": "stdout",
       "text": [
        "42 Epoch "
       ]
      },
      {
       "output_type": "stream",
       "stream": "stdout",
       "text": [
        "43 Epoch "
       ]
      },
      {
       "output_type": "stream",
       "stream": "stdout",
       "text": [
        "44 Epoch "
       ]
      },
      {
       "output_type": "stream",
       "stream": "stdout",
       "text": [
        "45 Epoch "
       ]
      },
      {
       "output_type": "stream",
       "stream": "stdout",
       "text": [
        "46 Epoch "
       ]
      },
      {
       "output_type": "stream",
       "stream": "stdout",
       "text": [
        "47 Epoch "
       ]
      },
      {
       "output_type": "stream",
       "stream": "stdout",
       "text": [
        "48 Epoch "
       ]
      },
      {
       "output_type": "stream",
       "stream": "stdout",
       "text": [
        "49 Epoch "
       ]
      },
      {
       "output_type": "stream",
       "stream": "stdout",
       "text": [
        "50 Epoch "
       ]
      },
      {
       "output_type": "stream",
       "stream": "stdout",
       "text": [
        "51 Epoch "
       ]
      },
      {
       "output_type": "stream",
       "stream": "stdout",
       "text": [
        "52 Epoch "
       ]
      },
      {
       "output_type": "stream",
       "stream": "stdout",
       "text": [
        "53 Epoch "
       ]
      },
      {
       "output_type": "stream",
       "stream": "stdout",
       "text": [
        "54 Epoch "
       ]
      },
      {
       "output_type": "stream",
       "stream": "stdout",
       "text": [
        "55 Epoch "
       ]
      },
      {
       "output_type": "stream",
       "stream": "stdout",
       "text": [
        "56 Epoch "
       ]
      },
      {
       "output_type": "stream",
       "stream": "stdout",
       "text": [
        "57 Epoch "
       ]
      },
      {
       "output_type": "stream",
       "stream": "stdout",
       "text": [
        "58 Epoch "
       ]
      },
      {
       "output_type": "stream",
       "stream": "stdout",
       "text": [
        "59 Epoch "
       ]
      },
      {
       "output_type": "stream",
       "stream": "stdout",
       "text": [
        "60 Epoch "
       ]
      },
      {
       "output_type": "stream",
       "stream": "stdout",
       "text": [
        "61 Epoch "
       ]
      },
      {
       "output_type": "stream",
       "stream": "stdout",
       "text": [
        "62 Epoch "
       ]
      },
      {
       "output_type": "stream",
       "stream": "stdout",
       "text": [
        "63 Epoch "
       ]
      },
      {
       "output_type": "stream",
       "stream": "stdout",
       "text": [
        "64 Epoch "
       ]
      },
      {
       "output_type": "stream",
       "stream": "stdout",
       "text": [
        "65 Epoch "
       ]
      },
      {
       "output_type": "stream",
       "stream": "stdout",
       "text": [
        "66 Epoch "
       ]
      },
      {
       "output_type": "stream",
       "stream": "stdout",
       "text": [
        "67 Epoch "
       ]
      },
      {
       "output_type": "stream",
       "stream": "stdout",
       "text": [
        "68 Epoch "
       ]
      },
      {
       "output_type": "stream",
       "stream": "stdout",
       "text": [
        "69 Epoch "
       ]
      },
      {
       "output_type": "stream",
       "stream": "stdout",
       "text": [
        "70 Epoch "
       ]
      },
      {
       "output_type": "stream",
       "stream": "stdout",
       "text": [
        "71 Epoch "
       ]
      },
      {
       "output_type": "stream",
       "stream": "stdout",
       "text": [
        "72 Epoch "
       ]
      },
      {
       "output_type": "stream",
       "stream": "stdout",
       "text": [
        "73 Epoch "
       ]
      },
      {
       "output_type": "stream",
       "stream": "stdout",
       "text": [
        "74 Epoch "
       ]
      },
      {
       "output_type": "stream",
       "stream": "stdout",
       "text": [
        "75 Epoch "
       ]
      },
      {
       "output_type": "stream",
       "stream": "stdout",
       "text": [
        "76 Epoch "
       ]
      },
      {
       "output_type": "stream",
       "stream": "stdout",
       "text": [
        "77 Epoch "
       ]
      },
      {
       "output_type": "stream",
       "stream": "stdout",
       "text": [
        "78 Epoch "
       ]
      },
      {
       "output_type": "stream",
       "stream": "stdout",
       "text": [
        "79 Epoch "
       ]
      },
      {
       "output_type": "stream",
       "stream": "stdout",
       "text": [
        "80 Epoch "
       ]
      },
      {
       "output_type": "stream",
       "stream": "stdout",
       "text": [
        "81 Epoch "
       ]
      },
      {
       "output_type": "stream",
       "stream": "stdout",
       "text": [
        "82 Epoch "
       ]
      },
      {
       "output_type": "stream",
       "stream": "stdout",
       "text": [
        "83 Epoch "
       ]
      },
      {
       "output_type": "stream",
       "stream": "stdout",
       "text": [
        "84 Epoch "
       ]
      },
      {
       "output_type": "stream",
       "stream": "stdout",
       "text": [
        "85 Epoch "
       ]
      },
      {
       "output_type": "stream",
       "stream": "stdout",
       "text": [
        "86 Epoch "
       ]
      },
      {
       "output_type": "stream",
       "stream": "stdout",
       "text": [
        "87 Epoch "
       ]
      },
      {
       "output_type": "stream",
       "stream": "stdout",
       "text": [
        "88 Epoch "
       ]
      },
      {
       "output_type": "stream",
       "stream": "stdout",
       "text": [
        "89 Epoch "
       ]
      },
      {
       "output_type": "stream",
       "stream": "stdout",
       "text": [
        "90 Epoch "
       ]
      },
      {
       "output_type": "stream",
       "stream": "stdout",
       "text": [
        "91 Epoch "
       ]
      },
      {
       "output_type": "stream",
       "stream": "stdout",
       "text": [
        "92 Epoch "
       ]
      },
      {
       "output_type": "stream",
       "stream": "stdout",
       "text": [
        "93 Epoch "
       ]
      },
      {
       "output_type": "stream",
       "stream": "stdout",
       "text": [
        "94 Epoch "
       ]
      },
      {
       "output_type": "stream",
       "stream": "stdout",
       "text": [
        "95 Epoch "
       ]
      },
      {
       "output_type": "stream",
       "stream": "stdout",
       "text": [
        "96 Epoch "
       ]
      },
      {
       "output_type": "stream",
       "stream": "stdout",
       "text": [
        "97 Epoch "
       ]
      },
      {
       "output_type": "stream",
       "stream": "stdout",
       "text": [
        "98 Epoch "
       ]
      },
      {
       "output_type": "stream",
       "stream": "stdout",
       "text": [
        "99 Epoch "
       ]
      },
      {
       "output_type": "stream",
       "stream": "stdout",
       "text": [
        "100 "
       ]
      },
      {
       "metadata": {},
       "output_type": "display_data",
       "png": "[encoded data removed]",
       "text": [
        "Figure(PyObject <matplotlib.figure.Figure object at 0xcc85910>)"
       ]
      },
      {
       "metadata": {},
       "output_type": "pyout",
       "prompt_number": 27,
       "text": [
        "PyObject <matplotlib.legend.Legend object at 0xcc62750>"
       ]
      }
     ],
     "prompt_number": 27
    },
    {
     "cell_type": "code",
     "collapsed": false,
     "input": [],
     "language": "python",
     "metadata": {},
     "outputs": [],
     "prompt_number": 24
    }
   ],
   "metadata": {}
  }
 ]
}