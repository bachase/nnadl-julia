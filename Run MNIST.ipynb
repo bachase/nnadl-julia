{
 "metadata": {
  "language": "Julia",
  "name": ""
 },
 "nbformat": 3,
 "nbformat_minor": 0,
 "worksheets": [
  {
   "cells": [
    {
     "cell_type": "code",
     "collapsed": false,
     "input": [
      "reload(\"nnadl-julia/neuralnet.jl\")"
     ],
     "language": "python",
     "metadata": {},
     "outputs": [
      {
       "output_type": "stream",
       "stream": "stderr",
       "text": [
        "Warning: replacing module NeuralNet\n"
       ]
      }
     ],
     "prompt_number": 14
    },
    {
     "cell_type": "code",
     "collapsed": false,
     "input": [
      "using HDF5;\n",
      "using PyPlot;"
     ],
     "language": "python",
     "metadata": {},
     "outputs": [],
     "prompt_number": 14
    },
    {
     "cell_type": "code",
     "collapsed": false,
     "input": [
      "fid = h5open(\"/home/bachase/nnadl-julia/data/mnist.hdf5\",\"r\")"
     ],
     "language": "python",
     "metadata": {},
     "outputs": [
      {
       "metadata": {},
       "output_type": "pyout",
       "prompt_number": 15,
       "text": [
        "HDF5 data file: /home/bachase/nnadl-julia/data/mnist.hdf5"
       ]
      }
     ],
     "prompt_number": 15
    },
    {
     "cell_type": "code",
     "collapsed": false,
     "input": [
      "dump(fid)"
     ],
     "language": "python",
     "metadata": {},
     "outputs": [
      {
       "output_type": "stream",
       "stream": "stdout",
       "text": [
        "HDF5File len "
       ]
      },
      {
       "output_type": "stream",
       "stream": "stdout",
       "text": [
        "3\n",
        "  test_data: HDF5Group len 2\n",
        "    images: HDF5Dataset (784,10000) : [0.0f0,0.0f0,0.0f0,0.0f0,0.0f0 \n",
        "    labels: HDF5Dataset (10000,) : [7,2,1,0,4 \n",
        "  training_data: HDF5Group len 2\n",
        "    images: HDF5Dataset (784,50000) : [0.0f0,0.0f0,0.0f0,0.0f0,0.0f0 \n",
        "    labels: HDF5Dataset (50000,) : [5,0,4,1,9 \n",
        "  validation_data: HDF5Group len 2\n",
        "    images: HDF5Dataset (784,10000) : [0.0f0,0.0f0,0.0f0,0.0f0,0.0f0 \n",
        "    labels: HDF5Dataset (10000,) : [3,8,6,9,6 \n"
       ]
      }
     ],
     "prompt_number": 16
    },
    {
     "cell_type": "code",
     "collapsed": false,
     "input": [
      "function show_image(g)\n",
      "    imshow(reshape(g,(28,28))')\n",
      "    show()\n",
      "end\n",
      "\n",
      "function make_onehot(ids)\n",
      "    res = zeros(10, length(ids))\n",
      "    for (idx, id) in enumerate(ids)\n",
      "        res[id+1,idx] = 1\n",
      "    end\n",
      "    res\n",
      "end\n",
      "\n",
      "images = read(fid[\"training_data/images\"]);\n",
      "labels = make_onehot(read(fid[\"training_data/labels\"]));\n",
      "test_images = read(fid[\"test_data/images\"]);\n",
      "test_labels = make_onehot(read(fid[\"test_data/labels\"]));"
     ],
     "language": "python",
     "metadata": {},
     "outputs": [],
     "prompt_number": 16
    },
    {
     "cell_type": "code",
     "collapsed": false,
     "input": [
      "epochs = 40\n",
      "train_err = zeros(epochs)\n",
      "test_err = zeros(epochs)\n",
      "function callback(epoch, net)\n",
      "    train_err[epoch] = NeuralNet.cost(net, images, labels)\n",
      "    test_err[epoch] = NeuralNet.cost(net, test_images, test_labels) \n",
      "end\n",
      "n = NeuralNet.Network([784,30,10]);\n",
      "NeuralNet.train(n, images, labels, epochs, 100, 0.98, 0.01, callback)\n",
      "plot(1:epochs, train_err,label=\"Train\")\n",
      "plot(1:epochs, test_err, label=\"Test\")\n",
      "legend()"
     ],
     "language": "python",
     "metadata": {},
     "outputs": [
      {
       "output_type": "stream",
       "stream": "stdout",
       "text": [
        "Epoch 1"
       ]
      },
      {
       "output_type": "stream",
       "stream": "stdout",
       "text": [
        " Epoch "
       ]
      },
      {
       "output_type": "stream",
       "stream": "stdout",
       "text": [
        "2 Epoch "
       ]
      },
      {
       "output_type": "stream",
       "stream": "stdout",
       "text": [
        "3 Epoch "
       ]
      }
     ],
     "prompt_number": "*"
    },
    {
     "cell_type": "code",
     "collapsed": false,
     "input": [],
     "language": "python",
     "metadata": {},
     "outputs": [],
     "prompt_number": "*"
    }
   ],
   "metadata": {}
  }
 ]
}